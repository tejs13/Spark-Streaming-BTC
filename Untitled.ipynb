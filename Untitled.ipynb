{
 "cells": [
  {
   "cell_type": "code",
   "execution_count": 1,
   "id": "2cc2706c",
   "metadata": {},
   "outputs": [
    {
     "name": "stdout",
     "output_type": "stream",
     "text": [
      "Welcome to\n",
      "      ____              __\n",
      "     / __/__  ___ _____/ /__\n",
      "    _\\ \\/ _ \\/ _ `/ __/  '_/\n",
      "   /__ / .__/\\_,_/_/ /_/\\_\\   version 3.2.3\n",
      "      /_/\n",
      "\n",
      "Using Python version 3.10.9 (tags/v3.10.9:1dd9be6, Dec  6 2022 20:01:21)\n",
      "Spark context Web UI available at http://host.docker.internal:4040\n",
      "Spark context available as 'sc' (master = local[*], app id = local-1677980137993).\n",
      "SparkSession available as 'spark'.\n"
     ]
    }
   ],
   "source": [
    "import os\n",
    "import traceback\n",
    "import pandas\n",
    "\n",
    "import findspark\n",
    "import websocket\n",
    "\n",
    "findspark.init('D:\\Spark\\spark-3.2.3-bin-hadoop3.2')\n",
    "\n",
    "\n",
    "from pyspark.python.pyspark.shell import sqlContext\n",
    "from pyspark.sql import SparkSession\n",
    "from pyspark.sql.functions import from_json, col, explode\n",
    "from pyspark.sql.types import StructType, StructField, StringType, IntegerType, BooleanType, DateType, ArrayType\n",
    "\n",
    "KAFKA_BOOTSTRAP_SERVERS = \"localhost:9092\"\n",
    "KAFKA_TOPIC = \"bitcoin\"\n",
    "\n",
    "import socket"
   ]
  },
  {
   "cell_type": "code",
   "execution_count": 2,
   "id": "1aeeb7d8",
   "metadata": {},
   "outputs": [],
   "source": [
    "spark = SparkSession.builder\\\n",
    "        .config(\"spark.jars\", \"///D:/Spark/spark-3.2.3-bin-hadoop3.2/jars/spark-sql-kafka-0-10_2.12-3.2.3.jar\" + \",\" +\n",
    "                \"///D:/Spark/spark-3.2.3-bin-hadoop3.2/jars/kafka-clients-3.2.3.jar\" + \",\" +\n",
    "                \"///D:/Spark/spark-3.2.3-bin-hadoop3.2/jars/commons-pool2-2.8.0.jar\" + \",\" +\n",
    "                \"///D:/Spark/spark-3.2.3-bin-hadoop3.2/jars/spark-token-provider-kafka-0-10_2.12-3.2.3.jar\")\\\n",
    "        .appName(\"bitcoin-transactions\")\\\n",
    "        .getOrCreate()\\\n",
    "        # .config(\"spark.jars.packages\", \"org.apache.spark:spark-sql-kafka-0-10_2.12:3.1.2\")\n"
   ]
  },
  {
   "cell_type": "code",
   "execution_count": 3,
   "id": "9bdd85b4",
   "metadata": {
    "scrolled": false
   },
   "outputs": [
    {
     "data": {
      "text/html": [
       "\n",
       "            <div>\n",
       "                <p><b>SparkSession - hive</b></p>\n",
       "                \n",
       "        <div>\n",
       "            <p><b>SparkContext</b></p>\n",
       "\n",
       "            <p><a href=\"http://host.docker.internal:4040\">Spark UI</a></p>\n",
       "\n",
       "            <dl>\n",
       "              <dt>Version</dt>\n",
       "                <dd><code>v3.2.3</code></dd>\n",
       "              <dt>Master</dt>\n",
       "                <dd><code>local[*]</code></dd>\n",
       "              <dt>AppName</dt>\n",
       "                <dd><code>pyspark-shell</code></dd>\n",
       "            </dl>\n",
       "        </div>\n",
       "        \n",
       "            </div>\n",
       "        "
      ],
      "text/plain": [
       "<pyspark.sql.session.SparkSession at 0x19c851160b0>"
      ]
     },
     "execution_count": 3,
     "metadata": {},
     "output_type": "execute_result"
    }
   ],
   "source": [
    "spark"
   ]
  },
  {
   "cell_type": "code",
   "execution_count": 4,
   "id": "73d75ff8",
   "metadata": {},
   "outputs": [],
   "source": [
    "\n",
    "    schema = StructType([\n",
    "        StructField(\"f\", StringType(), True),\n",
    "        StructField(\"l\", StringType(), True),\n",
    "        StructField(\"cwid\", IntegerType(), True),\n",
    "            ])"
   ]
  },
  {
   "cell_type": "code",
   "execution_count": 5,
   "id": "f72c94ad",
   "metadata": {},
   "outputs": [],
   "source": [
    "df = spark.readStream \\\n",
    "        .option(\"maxFilesPerTrigger\", 1) \\\n",
    "        .option(\"multiline\", 'true') \\\n",
    "        .format('json')\\\n",
    "        .schema(schema) \\\n",
    "        .json(\"BTC_TRANSACTIONS\")\n"
   ]
  },
  {
   "cell_type": "code",
   "execution_count": 7,
   "id": "7e2c1d88",
   "metadata": {
    "scrolled": true
   },
   "outputs": [
    {
     "data": {
      "text/plain": [
       "DataFrame[f: string, l: string, cwid: int]"
      ]
     },
     "execution_count": 7,
     "metadata": {},
     "output_type": "execute_result"
    }
   ],
   "source": [
    "df"
   ]
  },
  {
   "cell_type": "code",
   "execution_count": 6,
   "id": "dc2eaf67",
   "metadata": {},
   "outputs": [],
   "source": [
    "    def process_each_batch(df, batch_id):\n",
    "        cnt = 0\n",
    "        # Collect the output of the stream into a Pandas dataframe\n",
    "        # output_df = df.toPandas()\n",
    "        # Print the output to the console\n",
    "        # server_socket.send(df)\n",
    "\n",
    "        # if listener connected then, sink the output\n",
    "#         if conn:\n",
    "#             conn.send(b'tejas zalak')\n",
    "\n",
    "        print(df, \"Finally\", \"========================\", cnt, type(df))\n",
    "        print(df.show())\n",
    "        df.describe().toPandas().to_excel('BTC_Transaction.xlsx', sheet_name='Sheet1', index=True)\n",
    "\n",
    "        cnt += 1"
   ]
  },
  {
   "cell_type": "code",
   "execution_count": null,
   "id": "8cb1759d",
   "metadata": {},
   "outputs": [],
   "source": [
    "   df.writeStream \\\n",
    "        .format(\"console\") \\\n",
    "        .outputMode(\"append\") \\\n",
    "        .foreachBatch(process_each_batch)\\\n",
    "        .start() \\\n",
    "        .awaitTermination()"
   ]
  },
  {
   "cell_type": "code",
   "execution_count": null,
   "id": "64435b0b",
   "metadata": {},
   "outputs": [],
   "source": []
  }
 ],
 "metadata": {
  "kernelspec": {
   "display_name": "Python 3 (ipykernel)",
   "language": "python",
   "name": "python3"
  },
  "language_info": {
   "codemirror_mode": {
    "name": "ipython",
    "version": 3
   },
   "file_extension": ".py",
   "mimetype": "text/x-python",
   "name": "python",
   "nbconvert_exporter": "python",
   "pygments_lexer": "ipython3",
   "version": "3.10.9"
  }
 },
 "nbformat": 4,
 "nbformat_minor": 5
}
